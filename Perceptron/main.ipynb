{
 "cells": [
  {
   "cell_type": "markdown",
   "source": [
    "This project is aimed at implementing the Perceptron classifier. \n",
    "\n",
    "The program that implements the Perceptron in order to classify the following set of points:\n",
    " - (6, 9), (8, 14), (9, 7), (9, 11), (11, 8), (14,2), (16, 5), (17, 10), and (19, 3).\n",
    "\n",
    "Figure 1 in images illustrates how such points must be classified."
   ],
   "metadata": {
    "collapsed": false
   },
   "id": "d0f97dea71521d60"
  },
  {
   "cell_type": "code",
   "outputs": [],
   "source": [
    "import matplotlib.pyplot as plt"
   ],
   "metadata": {
    "collapsed": false,
    "ExecuteTime": {
     "end_time": "2024-05-09T04:48:11.449713Z",
     "start_time": "2024-05-09T04:48:11.444743Z"
    }
   },
   "id": "c813c1cb3ebaa025",
   "execution_count": 34
  },
  {
   "cell_type": "code",
   "outputs": [],
   "source": [
    "w0 = 0\n",
    "w1 = -0.5\n",
    "w2 = 2\n",
    "\n",
    "alpha = 0.2"
   ],
   "metadata": {
    "collapsed": false,
    "ExecuteTime": {
     "end_time": "2024-05-09T04:48:11.462240Z",
     "start_time": "2024-05-09T04:48:11.450814Z"
    }
   },
   "id": "5ee97025c06e10ec",
   "execution_count": 35
  },
  {
   "cell_type": "code",
   "outputs": [],
   "source": [
    "green_dots = [(6,9), (8, 14), (9, 7), (9, 11), (11, 8)]\n",
    "red_triangles = [(14, 2), (16, 5), (17, 10), (19, 3)]\n",
    "\n",
    "dataset = green_dots + red_triangles"
   ],
   "metadata": {
    "collapsed": false,
    "ExecuteTime": {
     "end_time": "2024-05-09T04:48:11.467478Z",
     "start_time": "2024-05-09T04:48:11.463329Z"
    }
   },
   "id": "1bd3cb7662f24919",
   "execution_count": 36
  },
  {
   "cell_type": "code",
   "outputs": [],
   "source": [
    "def eval_function(x1):\n",
    "    return (-w1/w2 * x1) - (w0/w2)"
   ],
   "metadata": {
    "collapsed": false,
    "ExecuteTime": {
     "end_time": "2024-05-09T04:48:11.472523Z",
     "start_time": "2024-05-09T04:48:11.468553Z"
    }
   },
   "id": "63be750ae2fd7416",
   "execution_count": 37
  },
  {
   "cell_type": "code",
   "outputs": [],
   "source": [
    "X1 = []\n",
    "X2 = []\n",
    "def initialize_function():    \n",
    "    for x in range(20):\n",
    "       y = eval_function(x)\n",
    "       X1.append(x)\n",
    "       X2.append(y)"
   ],
   "metadata": {
    "collapsed": false,
    "ExecuteTime": {
     "end_time": "2024-05-09T04:48:11.477112Z",
     "start_time": "2024-05-09T04:48:11.473529Z"
    }
   },
   "id": "63b901a5cdebb700",
   "execution_count": 38
  },
  {
   "cell_type": "code",
   "outputs": [],
   "source": [
    "def perceptron(group, x, y):\n",
    "    vector = (group, x, y)\n",
    "    sigma = int(sum([i*j for (i, j) in zip(vector, weight)]))\n",
    "    if sigma > 0:\n",
    "        return 1\n",
    "    return 0"
   ],
   "metadata": {
    "collapsed": false,
    "ExecuteTime": {
     "end_time": "2024-05-09T04:48:11.481656Z",
     "start_time": "2024-05-09T04:48:11.478161Z"
    }
   },
   "id": "d1e8cfd87ea23641",
   "execution_count": 39
  },
  {
   "cell_type": "code",
   "outputs": [
    {
     "name": "stdout",
     "output_type": "stream",
     "text": [
      "6 9\n",
      "(0, -0.5, 2) \n",
      "\n",
      "8 14\n",
      "(0, -0.5, 2) \n",
      "\n",
      "9 7\n",
      "(0, -0.5, 2) \n",
      "\n",
      "9 11\n",
      "(0, -0.5, 2) \n",
      "\n",
      "11 8\n",
      "(0, -0.5, 2) \n",
      "\n",
      "14 2\n",
      "(0, -0.5, 2) \n",
      "\n",
      "16 5\n",
      "(-0.2, -3.7, 1.0) \n",
      "\n",
      "17 10\n",
      "(-0.2, -3.7, 1.0) \n",
      "\n",
      "19 3\n",
      "(-0.2, -3.7, 1.0) \n",
      "\n",
      "6 9\n",
      "(0.0, -2.5, 2.8) \n",
      "\n",
      "8 14\n",
      "(0.0, -2.5, 2.8) \n",
      "\n",
      "9 7\n",
      "(0.2, -0.7, 4.2) \n",
      "\n",
      "9 11\n",
      "(0.2, -0.7, 4.2) \n",
      "\n",
      "11 8\n",
      "(0.2, -0.7, 4.2) \n",
      "\n",
      "14 2\n",
      "(0.2, -0.7, 4.2) \n",
      "\n",
      "16 5\n",
      "(0.0, -3.9000000000000004, 3.2) \n",
      "\n",
      "17 10\n",
      "(0.0, -3.9000000000000004, 3.2) \n",
      "\n",
      "19 3\n",
      "(0.0, -3.9000000000000004, 3.2) \n",
      "\n",
      "6 9\n",
      "(0.0, -3.9000000000000004, 3.2) \n",
      "\n",
      "8 14\n",
      "(0.0, -3.9000000000000004, 3.2) \n",
      "\n",
      "9 7\n",
      "(0.2, -2.1000000000000005, 4.6000000000000005) \n",
      "\n",
      "9 11\n",
      "(0.2, -2.1000000000000005, 4.6000000000000005) \n",
      "\n",
      "11 8\n",
      "(0.2, -2.1000000000000005, 4.6000000000000005) \n",
      "\n",
      "14 2\n",
      "(0.2, -2.1000000000000005, 4.6000000000000005) \n",
      "\n",
      "16 5\n",
      "(0.2, -2.1000000000000005, 4.6000000000000005) \n",
      "\n",
      "17 10\n",
      "(0.0, -5.500000000000001, 2.6000000000000005) \n",
      "\n",
      "19 3\n",
      "(0.0, -5.500000000000001, 2.6000000000000005) \n",
      "\n",
      "6 9\n",
      "(0.2, -4.300000000000001, 4.4) \n",
      "\n",
      "8 14\n",
      "(0.2, -4.300000000000001, 4.4) \n",
      "\n",
      "9 7\n",
      "(0.4, -2.500000000000001, 5.800000000000001) \n",
      "\n",
      "9 11\n",
      "(0.4, -2.500000000000001, 5.800000000000001) \n",
      "\n",
      "11 8\n",
      "(0.4, -2.500000000000001, 5.800000000000001) \n",
      "\n",
      "14 2\n",
      "(0.4, -2.500000000000001, 5.800000000000001) \n",
      "\n",
      "16 5\n",
      "(0.4, -2.500000000000001, 5.800000000000001) \n",
      "\n",
      "17 10\n",
      "(0.2, -5.900000000000001, 3.8000000000000007) \n",
      "\n",
      "19 3\n",
      "(0.2, -5.900000000000001, 3.8000000000000007) \n",
      "\n",
      "6 9\n",
      "(0.4, -4.700000000000001, 5.6000000000000005) \n",
      "\n",
      "8 14\n",
      "(0.4, -4.700000000000001, 5.6000000000000005) \n",
      "\n",
      "9 7\n",
      "(0.6000000000000001, -2.9000000000000012, 7.000000000000001) \n",
      "\n",
      "9 11\n",
      "(0.6000000000000001, -2.9000000000000012, 7.000000000000001) \n",
      "\n",
      "11 8\n",
      "(0.6000000000000001, -2.9000000000000012, 7.000000000000001) \n",
      "\n",
      "14 2\n",
      "(0.6000000000000001, -2.9000000000000012, 7.000000000000001) \n",
      "\n",
      "16 5\n",
      "(0.6000000000000001, -2.9000000000000012, 7.000000000000001) \n",
      "\n",
      "17 10\n",
      "(0.4000000000000001, -6.300000000000002, 5.000000000000001) \n",
      "\n",
      "19 3\n",
      "(0.4000000000000001, -6.300000000000002, 5.000000000000001) \n",
      "\n",
      "6 9\n",
      "(0.4000000000000001, -6.300000000000002, 5.000000000000001) \n",
      "\n",
      "8 14\n",
      "(0.4000000000000001, -6.300000000000002, 5.000000000000001) \n",
      "\n",
      "9 7\n",
      "(0.6000000000000001, -4.500000000000002, 6.400000000000001) \n",
      "\n",
      "9 11\n",
      "(0.6000000000000001, -4.500000000000002, 6.400000000000001) \n",
      "\n",
      "11 8\n",
      "(0.6000000000000001, -4.500000000000002, 6.400000000000001) \n",
      "\n",
      "14 2\n",
      "(0.6000000000000001, -4.500000000000002, 6.400000000000001) \n",
      "\n",
      "16 5\n",
      "(0.6000000000000001, -4.500000000000002, 6.400000000000001) \n",
      "\n",
      "17 10\n",
      "(0.6000000000000001, -4.500000000000002, 6.400000000000001) \n",
      "\n",
      "19 3\n",
      "(0.6000000000000001, -4.500000000000002, 6.400000000000001) \n",
      "\n",
      "6 9\n",
      "(0.6000000000000001, -4.500000000000002, 6.400000000000001) \n",
      "\n",
      "8 14\n",
      "(0.6000000000000001, -4.500000000000002, 6.400000000000001) \n",
      "\n",
      "9 7\n",
      "(0.6000000000000001, -4.500000000000002, 6.400000000000001) \n",
      "\n",
      "9 11\n",
      "(0.6000000000000001, -4.500000000000002, 6.400000000000001) \n",
      "\n",
      "11 8\n",
      "(0.6000000000000001, -4.500000000000002, 6.400000000000001) \n",
      "\n",
      "14 2\n",
      "(0.6000000000000001, -4.500000000000002, 6.400000000000001) \n",
      "\n",
      "16 5\n",
      "(0.6000000000000001, -4.500000000000002, 6.400000000000001) \n",
      "\n",
      "17 10\n",
      "(0.6000000000000001, -4.500000000000002, 6.400000000000001) \n",
      "\n",
      "19 3\n",
      "(0.6000000000000001, -4.500000000000002, 6.400000000000001) \n"
     ]
    }
   ],
   "source": [
    "weight = (w0, w1, w2)\n",
    "weights_changed = True\n",
    "while weights_changed:\n",
    "    weights_changed = False\n",
    "    for coor in dataset:\n",
    "        if coor in green_dots:\n",
    "            group = 1\n",
    "        if coor in red_triangles:\n",
    "            group = 0\n",
    "        x = coor[0]\n",
    "        y = coor[1]\n",
    "    \n",
    "        new_weight = (weight[0] + alpha * float((group - perceptron(1, x, y))) * 1,\n",
    "                  weight[1] + alpha * float((group - perceptron(1, coor[0], coor[1]))) * coor[0],\n",
    "                  weight[2] + alpha * float((group - perceptron(1, coor[0], coor[1]))) * coor[1])\n",
    "        \n",
    "        if new_weight != weight:\n",
    "            weight = new_weight\n",
    "            weights_changed = True\n",
    "            w0 = new_weight[0]\n",
    "            w1 = new_weight[1]\n",
    "            w2 = new_weight[2]\n",
    "\n",
    "        print(str(x) + \" \" + str(y))\n",
    "        print(weight, \"\\n\")"
   ],
   "metadata": {
    "collapsed": false,
    "ExecuteTime": {
     "end_time": "2024-05-09T04:48:11.488680Z",
     "start_time": "2024-05-09T04:48:11.482723Z"
    }
   },
   "id": "4474aa7cc5c84273",
   "execution_count": 40
  },
  {
   "cell_type": "code",
   "outputs": [
    {
     "data": {
      "text/plain": "<Figure size 640x480 with 1 Axes>",
      "image/png": "[encoded data removed]"
     },
     "metadata": {},
     "output_type": "display_data"
    }
   ],
   "source": [
    "initialize_function()\n",
    "plt.plot(X1, X2, label='Classifier', color='blue')\n",
    "plt.scatter([coor[0] for coor in green_dots], [coor[1] for coor in green_dots], color='green')\n",
    "plt.scatter([coor[0] for coor in red_triangles], [coor[1] for coor in red_triangles], color='red')\n",
    "\n",
    "plt.xlabel(\"X\")\n",
    "plt.ylabel(\"Y\")\n",
    "plt.legend()\n",
    "plt.grid()\n",
    "plt.show()"
   ],
   "metadata": {
    "collapsed": false,
    "ExecuteTime": {
     "end_time": "2024-05-09T04:48:11.584313Z",
     "start_time": "2024-05-09T04:48:11.489685Z"
    }
   },
   "id": "4744195dfb1fcf54",
   "execution_count": 41
  }
 ],
 "metadata": {
  "kernelspec": {
   "display_name": "Python 3",
   "language": "python",
   "name": "python3"
  },
  "language_info": {
   "codemirror_mode": {
    "name": "ipython",
    "version": 2
   },
   "file_extension": ".py",
   "mimetype": "text/x-python",
   "name": "python",
   "nbconvert_exporter": "python",
   "pygments_lexer": "ipython2",
   "version": "2.7.6"
  }
 },
 "nbformat": 4,
 "nbformat_minor": 5
}
