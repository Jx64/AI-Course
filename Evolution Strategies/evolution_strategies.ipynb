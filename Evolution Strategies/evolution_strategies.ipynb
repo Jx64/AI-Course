{
  "nbformat": 4,
  "nbformat_minor": 0,
  "metadata": {
    "colab": {
      "provenance": [],
      "authorship_tag": "ABX9TyNO2UnFmLsJong4ofteY9bj"
    },
    "kernelspec": {
      "name": "python3",
      "display_name": "Python 3"
    },
    "language_info": {
      "name": "python"
    }
  },
  "cells": [
    {
      "cell_type": "code",
      "execution_count": null,
      "metadata": {
        "id": "kbOvKm3g2en8"
      },
      "outputs": [],
      "source": [
        "import math\n",
        "import random\n",
        "import time\n",
        "import matplotlib.pyplot as plt"
      ]
    },
    {
      "cell_type": "code",
      "source": [
        "epsilon = 0.6\n",
        "sigma_inicial = 0.5\n",
        "\n",
        "miu = 5\n",
        "lmda = miu * 7\n",
        "gens = 10000\n",
        "start = -512\n",
        "end = 512\n",
        "porcentaje_mutacion = 0.8\n",
        "porcentaje_recombinacion = 0.2\n",
        "fitness_fun = lambda x, y: -(y + 47) * math.sin(math.sqrt(abs(x/2 + (y + 47)))) - x * math.sin(math.sqrt(abs(x - (y + 47))))"
      ],
      "metadata": {
        "id": "__SNIwqmRuDw"
      },
      "execution_count": null,
      "outputs": []
    },
    {
      "cell_type": "code",
      "source": [
        "def eval_fitness(population):\n",
        "   list_x = list(zip(*population))[0]\n",
        "   list_y = list(zip(*population))[1]\n",
        "\n",
        "   return list(map(fitness_fun,list_x,list_y))"
      ],
      "metadata": {
        "id": "z8kk2sdt34uz"
      },
      "execution_count": null,
      "outputs": []
    },
    {
      "cell_type": "code",
      "source": [
        "def mutar(individual):\n",
        "    t = 1 / math.sqrt(2)\n",
        "\n",
        "    sigma = sigma_inicial * (math.e)**(t*random.gauss(0,1))\n",
        "\n",
        "    if sigma <= epsilon:\n",
        "        sigma = epsilon\n",
        "\n",
        "    individuo_x = individual[0]\n",
        "    individuo_y = individual[1]\n",
        "\n",
        "    x_prima = individuo_x + sigma * random.gauss(0,1)\n",
        "    y_prima = individuo_y + sigma * random.gauss(0,1)\n",
        "    return (x_prima, y_prima)"
      ],
      "metadata": {
        "id": "8jvWJOXIgCXf"
      },
      "execution_count": null,
      "outputs": []
    },
    {
      "cell_type": "code",
      "source": [
        "def recombinacion_discreta(tupla):\n",
        "  individuos_x = list(zip(*tupla))[0]\n",
        "  individuos_y = list(zip(*tupla))[1]\n",
        "\n",
        "  result1 = random.choice(individuos_x)\n",
        "  result2 = random.choice(individuos_y)\n",
        "\n",
        "  return (result1,result2)"
      ],
      "metadata": {
        "id": "LW4U0VEKsMNa"
      },
      "execution_count": null,
      "outputs": []
    },
    {
      "cell_type": "code",
      "source": [
        "def recombinacion_local_intermedia(tupla):\n",
        "  x = list(zip(*tupla))[0]\n",
        "  y = list(zip(*tupla))[1]\n",
        "\n",
        "  dad1_x = random.choice(x)\n",
        "  dad1_y = random.choice(y)\n",
        "\n",
        "  dad2_x = random.choice(x)\n",
        "  dad2_y = random.choice(y)\n",
        "\n",
        "  valor_uniforme_x = random.uniform(0,1)\n",
        "  valor_uniforme_y = random.uniform(0,1)\n",
        "\n",
        "  first_result_x =  dad1_x * valor_uniforme_x\n",
        "  first_result_y =  dad1_y * valor_uniforme_y\n",
        "\n",
        "  second_result_x = dad2_x * (1 - valor_uniforme_x)\n",
        "  second_result_y = dad2_y * (1 - valor_uniforme_y)\n",
        "\n",
        "  result_x = first_result_x + second_result_x\n",
        "  result_y = first_result_y + second_result_y\n",
        "\n",
        "  return (result_x, result_y)"
      ],
      "metadata": {
        "id": "6uPBHg26gVau"
      },
      "execution_count": null,
      "outputs": []
    },
    {
      "cell_type": "code",
      "source": [
        "def recombinacion_global_intermedia(tupla):\n",
        "  lista_x = list(zip(*tupla))[0]\n",
        "  lista_y = list(zip(*tupla))[1]\n",
        "\n",
        "  individuos_x = []\n",
        "  individuos_y = []\n",
        "\n",
        "  sum_x = 0.0\n",
        "  sum_y = 0.0\n",
        "\n",
        "  for i in range(0,4):\n",
        "    individuos_x.append(random.choice(lista_x))\n",
        "    individuos_y.append(random.choice(lista_y))\n",
        "\n",
        "    sum_x += individuos_x[i]\n",
        "    sum_y += individuos_y[i]\n",
        "\n",
        "  promedio_x = sum_x / 4\n",
        "  promedio_y = sum_y / 4\n",
        "\n",
        "  return (promedio_x, promedio_y)"
      ],
      "metadata": {
        "id": "cbIM3zgpsdh0"
      },
      "execution_count": null,
      "outputs": []
    },
    {
      "cell_type": "code",
      "source": [
        "def evolution_strategies(parents):\n",
        "  print(\"Opciones:\")\n",
        "  print(\"1 -> recombinacion global intermedia\")\n",
        "  print(\"2 -> recombinacion local intermedia\")\n",
        "  print(\"3 -> recombinacion discreta\")\n",
        "  opcion = int(input(\"Elija la opcion de la recombinacion que desea: \"))\n",
        "\n",
        "  start_time = time.time()\n",
        "\n",
        "  best_fitness_history = {}  # Diccionario para almacenar la historia del mejor fitness\n",
        "  best_fitness = float('inf')\n",
        "\n",
        "  for i in range(gens):\n",
        "    if i < gens*porcentaje_recombinacion:\n",
        "      if opcion == 1:\n",
        "        offsprings = [recombinacion_global_intermedia(parents) for _ in range(lmda)]\n",
        "      elif opcion == 2:\n",
        "        offsprings = [recombinacion_local_intermedia(parents) for _ in range(lmda)]\n",
        "      elif opcion == 3:\n",
        "        offsprings = [recombinacion_discreta(parents) for _ in range(lmda)]\n",
        "      else:\n",
        "        print(\"Elija una opcion valida\")\n",
        "    else:\n",
        "      offsprings = [mutar(random.choice(parents)) for _ in range(lmda)]\n",
        "\n",
        "    population = parents + offsprings\n",
        "    fitness = eval_fitness(population)\n",
        "    best = sorted(range(len(population)),key=lambda x:fitness[x])\n",
        "    best_index = min(range(len(population)), key=lambda x: fitness[x])\n",
        "\n",
        "    if fitness[best_index] < best_fitness:\n",
        "        best_fitness = fitness[best_index]\n",
        "        best_fitness_history[i] = best_fitness\n",
        "\n",
        "    parents = [population[best[k]] for k in range(miu)]\n",
        "\n",
        "  end_time = time.time()\n",
        "\n",
        "  print(\"Mejor solucion: \", parents[0])\n",
        "  print(\"Número de iteraciones: \", gens)\n",
        "  print(\"Tiempo de ejecución: \", end_time - start_time)\n",
        "\n",
        "  print(\"\\n\")\n",
        "  plt.plot(eval_fitness(parents))\n",
        "  plt.xlabel('Gen')\n",
        "  plt.ylabel('Fitness')\n",
        "  plt.title('Gráfica de Convergencia')\n",
        "  plt.show()\n"
      ],
      "metadata": {
        "id": "M7mxkydPzgMB"
      },
      "execution_count": null,
      "outputs": []
    },
    {
      "cell_type": "code",
      "source": [
        "random.seed(0)\n",
        "parents = [(random.uniform(start, end), random.uniform(start,end)) for _ in range(miu)]\n",
        "\n",
        "evolution_strategies(parents)"
      ],
      "metadata": {
        "id": "ttv51DqBtcdt",
        "colab": {
          "base_uri": "https://localhost:8080/",
          "height": 654
        },
        "outputId": "300d3c39-4519-4905-dfd3-9c65cc94c4e6"
      },
      "execution_count": null,
      "outputs": [
        {
          "output_type": "stream",
          "name": "stdout",
          "text": [
            "Opciones:\n",
            "1 -> recombinacion global intermedia\n",
            "2 -> recombinacion local intermedia\n",
            "3 -> recombinacion discreta\n",
            "Elija la opcion de la recombinacion que desea: 1\n",
            "Mejor solucion:  (276.85779053049527, 28.9128769137107)\n",
            "Número de iteraciones:  10000\n",
            "Tiempo de ejecución:  2.0005486011505127\n",
            "\n",
            "\n"
          ]
        },
        {
          "output_type": "display_data",
          "data": {
            "text/plain": [
              "<Figure size 640x480 with 1 Axes>"
            ],
            "image/png": "[encoded data removed]"
          },
          "metadata": {}
        }
      ]
    }
  ]
}