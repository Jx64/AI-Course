{
  "nbformat": 4,
  "nbformat_minor": 0,
  "metadata": {
    "colab": {
      "provenance": [],
      "authorship_tag": "ABX9TyPABDxfFyr3IOnBzkvL/9NT"
    },
    "kernelspec": {
      "name": "python3",
      "display_name": "Python 3"
    },
    "language_info": {
      "name": "python"
    }
  },
  "cells": [
    {
      "cell_type": "code",
      "execution_count": 26,
      "metadata": {
        "id": "59MZvQxXuBWh"
      },
      "outputs": [],
      "source": [
        "import random"
      ]
    },
    {
      "cell_type": "code",
      "source": [
        "fitness_func = lambda x: 3*x**2 - 7*x + 5\n",
        "\n",
        "def eval_fitness( x ):\n",
        "  return list(map(fitness_func , x))"
      ],
      "metadata": {
        "id": "epLtd3NjuFYL"
      },
      "execution_count": 27,
      "outputs": []
    },
    {
      "cell_type": "code",
      "source": [
        "def mutar( x ):\n",
        "  return x + random.gauss(0, 1)"
      ],
      "metadata": {
        "id": "0VL6m1iJuQmA"
      },
      "execution_count": 28,
      "outputs": []
    },
    {
      "cell_type": "code",
      "source": [
        "def recombinar(parent1, parent2):\n",
        "    crossover_point = random.uniform(0, 1)\n",
        "    offspring = parent1 * crossover_point + parent2 * (1 - crossover_point)\n",
        "    return offspring"
      ],
      "metadata": {
        "id": "LNjnyDgb4eT_"
      },
      "execution_count": 29,
      "outputs": []
    },
    {
      "cell_type": "code",
      "source": [
        "miu = 5\n",
        "lda = miu * 7\n",
        "gens = 10000\n",
        "start = -2\n",
        "end = 2\n",
        "\n",
        "#random.seed(1)\n",
        "parents = [ random.uniform(start, end) for _ in range(miu)]\n",
        "\n",
        "for i in range(gens):\n",
        "    offsprings = [mutar(random.choice(parents)) for _ in range(int(lda * 0.8))]\n",
        "    recombinations = [recombinar(random.choice(parents), random.choice(parents)) for _ in range(int(lda * 0.2))]\n",
        "    population = parents + offsprings + recombinations\n",
        "    fitness_values = eval_fitness(population)\n",
        "    best = sorted(range(len(population)), key=lambda x: fitness_values[x])\n",
        "    parents = [population[best[k]] for k in range(miu)]"
      ],
      "metadata": {
        "id": "aUIjmkTEuV3g"
      },
      "execution_count": 30,
      "outputs": []
    },
    {
      "cell_type": "code",
      "source": [
        "print(\"Última población generada:\")\n",
        "print(population)\n",
        "print(\"Mejores individuos después de todas las generaciones:\")\n",
        "print(parents)"
      ],
      "metadata": {
        "colab": {
          "base_uri": "https://localhost:8080/"
        },
        "id": "QuY0ifLp0pS_",
        "outputId": "5c01d646-ddf3-4713-bc28-2a76bb37a580"
      },
      "execution_count": 31,
      "outputs": [
        {
          "output_type": "stream",
          "name": "stdout",
          "text": [
            "Última población generada:\n",
            "[1.1666673054597398, 1.1666673054690129, 1.1666673054597398, 1.1666673055146457, 1.1666673053996177, 1.4115941737200077, 1.1912789844237743, 1.2599045450125133, 2.997767358504942, 0.5926880808282513, 1.5809949089163666, 1.390089228375193, 1.5708436489843844, 0.3468724481800354, 1.47412165825293, 3.507231627610281, 0.6972621059279027, 0.2739029046214846, 2.389652781989539, 0.3287049466809223, 1.4857718007463074, -0.4989164952723393, 0.45847274019604933, 0.9775205597127362, 1.3934039655929196, -0.6931298215381498, 1.7835582545989839, 3.506362449087331, 2.0689066507335117, 1.0891167321830142, 1.632499391890936, 1.4043467231397901, 2.721023348257265, 1.1666673054652157, 1.16666730544069, 1.1666673054597398, 1.1666673054665866, 1.1666673054597398, 1.1666673054496746, 1.1666673054383006]\n",
            "Mejores individuos después de todas las generaciones:\n",
            "[1.1666673054597398, 1.1666673054690129, 1.1666673054597398, 1.1666673055146457, 1.1666673053996177]\n"
          ]
        }
      ]
    }
  ]
}